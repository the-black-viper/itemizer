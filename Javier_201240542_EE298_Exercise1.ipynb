{
  "nbformat": 4,
  "nbformat_minor": 0,
  "metadata": {
    "colab": {
      "name": "Jjalmar transformer positional encoding graph.ipynb",
      "provenance": [],
      "collapsed_sections": [],
      "include_colab_link": true
    },
    "kernelspec": {
      "name": "python3",
      "display_name": "Python 3"
    }
  },
  "cells": [
    {
      "cell_type": "markdown",
      "metadata": {
        "id": "view-in-github",
        "colab_type": "text"
      },
      "source": [
        "<a href=\"https://colab.research.google.com/github/the-black-viper/itemizer/blob/master/Javier_201240542_EE298_Exercise1.ipynb\" target=\"_parent\"><img src=\"https://colab.research.google.com/assets/colab-badge.svg\" alt=\"Open In Colab\"/></a>"
      ]
    },
    {
      "cell_type": "code",
      "metadata": {
        "id": "JaLFyOLDKr56"
      },
      "source": [
        "import numpy as np\n",
        "import matplotlib.pyplot as plt\n",
        "import torch"
      ],
      "execution_count": 1,
      "outputs": []
    },
    {
      "cell_type": "code",
      "metadata": {
        "id": "pMvYBo3RKfmA"
      },
      "source": [
        "\n",
        "# Code from https://www.tensorflow.org/tutorials/text/transformer\n",
        "def get_angles(pos, i, d_model):\n",
        "  angle_rates = 1 / np.power(10000, (2 * (i//2)) / np.float32(d_model))\n",
        "  return pos * angle_rates\n",
        "\n",
        "def positional_encoding(position, d_model):\n",
        "  angle_rads = get_angles(np.arange(position)[:, np.newaxis],\n",
        "                          np.arange(d_model)[np.newaxis, :],\n",
        "                          d_model)\n",
        "  \n",
        "  # apply sin to even indices in the array; 2i\n",
        "  angle_rads[:, 0::2] = np.sin(angle_rads[:, 0::2])\n",
        "  \n",
        "  # apply cos to odd indices in the array; 2i+1\n",
        "  angle_rads[:, 1::2] = np.cos(angle_rads[:, 1::2])\n",
        "    \n",
        "  pos_encoding = angle_rads[np.newaxis, ...]\n",
        "    \n",
        "  return pos_encoding\n",
        "\n"
      ],
      "execution_count": 2,
      "outputs": []
    },
    {
      "cell_type": "code",
      "metadata": {
        "id": "SB9-56JWKv6T"
      },
      "source": [
        "tokens = 16\n",
        "dimensions = 16\n",
        "pos_encoding = positional_encoding(tokens, dimensions)\n",
        "orthogonal = np.dot(pos_encoding[0].T, pos_encoding[0])"
      ],
      "execution_count": 3,
      "outputs": []
    },
    {
      "cell_type": "code",
      "metadata": {
        "id": "4L5Z7kt7J2jQ",
        "outputId": "af16422a-7250-45c0-b253-631bbfd53d8f",
        "colab": {
          "base_uri": "https://localhost:8080/",
          "height": 85
        }
      },
      "source": [
        "U = np.array([[1, 2, 4],[0, 0, 5], [0, 3, 6]])\n",
        "Z = np.dot(U.T, U)\n",
        "\n",
        "is_ortho = ()\n",
        "# print(Z == np.eye(U.shape[0]))\n",
        "# x = (orthogonal == np.eye(pos_encoding[0].shape[0])).all()\n",
        "x = (Z == np.eye(U.shape[0])).all()\n",
        "print(Z)\n",
        "print(x)\n"
      ],
      "execution_count": 4,
      "outputs": [
        {
          "output_type": "stream",
          "text": [
            "[[ 1  2  4]\n",
            " [ 2 13 26]\n",
            " [ 4 26 77]]\n",
            "False\n"
          ],
          "name": "stdout"
        }
      ]
    },
    {
      "cell_type": "code",
      "metadata": {
        "id": "2iL7g9QEG-0b",
        "outputId": "fd1f2913-cf73-4ce0-9c85-2071167ee88d",
        "colab": {
          "base_uri": "https://localhost:8080/",
          "height": 501
        }
      },
      "source": [
        "\n",
        "plt.figure(figsize=(12,8))\n",
        "plt.pcolormesh(pos_encoding[0], cmap='viridis')\n",
        "plt.xlabel('Embedding Dimensions')\n",
        "plt.xlim((0, np.pi))\n",
        "plt.ylim((tokens,0))\n",
        "plt.ylabel('Token Position')\n",
        "plt.colorbar()\n",
        "plt.show()"
      ],
      "execution_count": 5,
      "outputs": [
        {
          "output_type": "display_data",
          "data": {
            "image/png": "[encoded data removed]",
            "text/plain": [
              "<Figure size 864x576 with 2 Axes>"
            ]
          },
          "metadata": {
            "tags": [],
            "needs_background": "light"
          }
        }
      ]
    },
    {
      "cell_type": "code",
      "metadata": {
        "id": "GdyrTa8vMZLs",
        "outputId": "9216a00d-cceb-45fa-fdd5-bc5fb3d5bc6e",
        "colab": {
          "base_uri": "https://localhost:8080/",
          "height": 85
        }
      },
      "source": [
        "import numpy as np\n",
        "\n",
        "def qr_factorization(A):\n",
        "    m, n = A.shape\n",
        "    Q = np.zeros((m, n))\n",
        "    R = np.zeros((n, n))\n",
        "\n",
        "    for j in range(n):\n",
        "        v = A[:, j]\n",
        "\n",
        "        for i in range(j - 1):\n",
        "            q = Q[:, i]\n",
        "            R[i, j] = q.dot(v)\n",
        "            v = v - R[i, j] * q\n",
        "\n",
        "        norm = np.linalg.norm(v)\n",
        "        Q[:, j] = v / norm\n",
        "        R[j, j] = norm\n",
        "    return Q, R\n",
        "\n",
        "# A = np.random.rand(13, 10) * 1000\n",
        "v1 = np.array([2,2,1]).reshape(3,1)\n",
        "v2 = np.array([-2,1,2]).reshape(3,1)\n",
        "v3 = np.array([18,0,0]).reshape(3,1)\n",
        "A = np.array((v1,v2,v3)).reshape(3,3)\n",
        "# A = np.array(([2,1],[2,1],[1,5]))\n",
        "# A = A.reshape(3,2)\n",
        "B = A.T\n",
        "print(A.T)\n",
        "Q, R = qr_factorization(pos_encoding[0])\n",
        "\n",
        "Q.shape, R.shape\n",
        "# np.abs((A - Q.dot(R)).sum()) < 1e-6\n",
        "# print(np.dot(Q.T,Q).round(2))"
      ],
      "execution_count": 8,
      "outputs": [
        {
          "output_type": "stream",
          "text": [
            "[[ 2 -2 18]\n",
            " [ 2  1  0]\n",
            " [ 1  2  0]]\n"
          ],
          "name": "stdout"
        },
        {
          "output_type": "execute_result",
          "data": {
            "text/plain": [
              "((16, 16), (16, 16))"
            ]
          },
          "metadata": {
            "tags": []
          },
          "execution_count": 8
        }
      ]
    },
    {
      "cell_type": "code",
      "metadata": {
        "id": "ie-rFClaq29K",
        "outputId": "943f4e23-faca-4998-ea87-e32dacf40d3e",
        "colab": {
          "base_uri": "https://localhost:8080/",
          "height": 501
        }
      },
      "source": [
        "plt.figure(figsize=(12,8))\n",
        "plt.pcolormesh(Q, cmap='viridis')\n",
        "plt.xlabel('Embedding Dimensions')\n",
        "plt.xlim((0, np.pi))\n",
        "plt.ylim((0, 16))\n",
        "plt.ylabel('Token Position')\n",
        "plt.colorbar()\n",
        "plt.show()"
      ],
      "execution_count": 10,
      "outputs": [
        {
          "output_type": "display_data",
          "data": {
            "image/png": "[encoded data removed]",
            "text/plain": [
              "<Figure size 864x576 with 2 Axes>"
            ]
          },
          "metadata": {
            "tags": [],
            "needs_background": "light"
          }
        }
      ]
    }
  ]
}